{
 "cells": [
  {
   "cell_type": "markdown",
   "id": "e4d22389",
   "metadata": {},
   "source": [
    "# Data Science Tools and Ecosystem"
   ]
  },
  {
   "cell_type": "markdown",
   "id": "935d5321",
   "metadata": {},
   "source": [
    "In this notebook, Data Science Tools and Ecosystem are summarized."
   ]
  },
  {
   "cell_type": "markdown",
   "id": "95743eed",
   "metadata": {},
   "source": [
    " __Objectives:__\n"
   ]
  },
  {
   "cell_type": "markdown",
   "id": "5b6e1a91",
   "metadata": {},
   "source": [
    "-  Python\n",
    "-  Javascript\n",
    "-  Java\n",
    "-  R"
   ]
  },
  {
   "cell_type": "markdown",
   "id": "d518fdec",
   "metadata": {},
   "source": [
    "Some of the popular languages that Data Scientists use are:"
   ]
  },
  {
   "cell_type": "markdown",
   "id": "c21014b7",
   "metadata": {},
   "source": [
    "1. Python\n",
    "2. R\n",
    "3. SQL"
   ]
  },
  {
   "cell_type": "markdown",
   "id": "fca4d8e1",
   "metadata": {},
   "source": [
    "Some of the commonly used libraries used by Data Scientists include:"
   ]
  },
  {
   "cell_type": "markdown",
   "id": "f457e704",
   "metadata": {},
   "source": [
    "1. NumPy\n",
    "2. SciPy\n",
    "3. Pandas\n",
    "4. Keras\n",
    "5. PyTorch"
   ]
  },
  {
   "cell_type": "markdown",
   "id": "35a978bc",
   "metadata": {},
   "source": [
    "| Data Science Tools |\n",
    "|:------|\n",
    "|Weka| \n",
    "|Scrapy|\n",
    "|Pandas|"
   ]
  },
  {
   "cell_type": "markdown",
   "id": "82305591",
   "metadata": {},
   "source": [
    "### Below are a few examples of evaluating arithmetic expressions in Python"
   ]
  },
  {
   "cell_type": "markdown",
   "id": "68f1e52b",
   "metadata": {},
   "source": [
    "This a simple arithmetic expression to mutiply then add integers:"
   ]
  },
  {
   "cell_type": "code",
   "execution_count": 24,
   "id": "d81a0831",
   "metadata": {},
   "outputs": [
    {
     "name": "stdout",
     "output_type": "stream",
     "text": [
      "The Answer is: 17\n"
     ]
    }
   ],
   "source": [
    "answer = (3*4)+5\n",
    "print (\"The Answer is:\",answer)"
   ]
  },
  {
   "cell_type": "markdown",
   "id": "53fda2cb",
   "metadata": {},
   "source": [
    " This will convert 200 minutes to hours by dividing by 60:"
   ]
  },
  {
   "cell_type": "code",
   "execution_count": 25,
   "id": "5f9780e9",
   "metadata": {},
   "outputs": [
    {
     "name": "stdout",
     "output_type": "stream",
     "text": [
      "3.3333333333333335\n"
     ]
    }
   ],
   "source": [
    "minutes = 200\n",
    "hours = minutes/60\n",
    "print (hours)"
   ]
  },
  {
   "cell_type": "markdown",
   "id": "ddff90a9",
   "metadata": {},
   "source": [
    "## Author\n",
    "Taylor Ard"
   ]
  },
  {
   "cell_type": "code",
   "execution_count": null,
   "id": "f3765ab2",
   "metadata": {},
   "outputs": [],
   "source": []
  }
 ],
 "metadata": {
  "kernelspec": {
   "display_name": "Python 3 (ipykernel)",
   "language": "python",
   "name": "python3"
  },
  "language_info": {
   "codemirror_mode": {
    "name": "ipython",
    "version": 3
   },
   "file_extension": ".py",
   "mimetype": "text/x-python",
   "name": "python",
   "nbconvert_exporter": "python",
   "pygments_lexer": "ipython3",
   "version": "3.10.9"
  }
 },
 "nbformat": 4,
 "nbformat_minor": 5
}
